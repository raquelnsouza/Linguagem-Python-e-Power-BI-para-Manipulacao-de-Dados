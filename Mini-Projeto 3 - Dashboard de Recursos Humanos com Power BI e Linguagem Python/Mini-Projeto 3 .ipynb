{
 "cells": [
  {
   "cell_type": "code",
   "execution_count": null,
   "id": "0c6ead47",
   "metadata": {},
   "outputs": [],
   "source": [
    "# Versão da Linguagem Python\n",
    "\n",
    "from platform import python_version\n",
    "print('Versão da Linguagem Python Usada Neste Jupyter Notebook', python_version())"
   ]
  },
  {
   "cell_type": "code",
   "execution_count": null,
   "id": "3ed5dd23",
   "metadata": {},
   "outputs": [],
   "source": [
    "# Instala o pacote watermark .\n",
    "# Esse pacote é usado para gravar as versões de outros pacotes usados neste Jupyter Notebook\n",
    "!pip install -q -U watermark"
   ]
  },
  {
   "cell_type": "code",
   "execution_count": null,
   "id": "73e36ae2",
   "metadata": {},
   "outputs": [],
   "source": [
    "# Imports\n",
    "\n",
    "import numpy as np\n",
    "import pandas as pd\n",
    "import matplotlib\n",
    "import matplotlib.pyplot as plt\n",
    "import seaborn as sns"
   ]
  },
  {
   "cell_type": "code",
   "execution_count": null,
   "id": "a087b3d5",
   "metadata": {
    "scrolled": true
   },
   "outputs": [],
   "source": [
    "# Carregando os Dados\n",
    "\n",
    "dadosRH = pd.read_csv('dadosRH.csv')\n",
    "dadosRH.head()\n",
    "dadosRH.shape"
   ]
  },
  {
   "cell_type": "code",
   "execution_count": null,
   "id": "47025978",
   "metadata": {},
   "outputs": [],
   "source": [
    "# Limpeza e Transformação de Dados\n",
    "# (Manipular os dados e corrigir eventuais problemas)\n",
    "\n",
    "dadosRH.isnull().sum()\n",
    "dadosRH.groupby(['educacao']).count()\n",
    "sns.countplot(dadosRH['educacao'])\n",
    "dadosRH.groupby(['aval_ano_anterior']).count()\n",
    "sns.countplot(dadosRH['aval_ano_anterior'])\n",
    "\n",
    "# Aplicando imputação e preenchendo os valores ausentes\n",
    "\n",
    "dadosRH['educacao'].fillna(dadosRH['educacao'].mode()[0], inplace = True)\n",
    "dadosRH['aval_ano_anterior'].fillna(dadosRH['aval_ano_anterior'].median(), inplace = True)\n",
    "dadosRH.isnull().sum()\n",
    "dadosRH.groupby(['educacao']).count()\n",
    "dadosRH.groupby(['aval_ano_anterior']).count()\n",
    "\n",
    "\n"
   ]
  },
  {
   "cell_type": "code",
   "execution_count": null,
   "id": "2e7dca90",
   "metadata": {},
   "outputs": [],
   "source": []
  },
  {
   "cell_type": "code",
   "execution_count": null,
   "id": "5d856cc7",
   "metadata": {},
   "outputs": [],
   "source": [
    "# Vamos verificar o balanceamento de classe na variável \"promovido\"\n",
    "\n",
    "dadosRH.groupby(['promovido']), count()\n",
    "sns.countplot(dadosRH['promovido'])\n",
    "\n",
    "df_classe_majoritaria = dadosRH[dadosRH.promovido==0]\n",
    "df_classe_minoritaria = dadosRH[dadosRH.promovido==1]\n",
    "\n",
    "df_classe_majoritaria.shape\n",
    "df_classe_minoritaria.shape\n"
   ]
  },
  {
   "cell_type": "code",
   "execution_count": null,
   "id": "8dd12ac9",
   "metadata": {},
   "outputs": [],
   "source": [
    "# Upsample da classe minoritária\n",
    "\n",
    "from skclearn.utils import resample\n",
    "df_classe_minoritaria_upsampled(df_classe_minoritaria,\n",
    "                                replace = True,\n",
    "                                n_samples = 50140,\n",
    "                                random_state = 150)"
   ]
  },
  {
   "cell_type": "code",
   "execution_count": null,
   "id": "a4e9c58d",
   "metadata": {},
   "outputs": [],
   "source": [
    "dadosRH_balanceados = pd.concat([df_classe_majoritaria, df_classe_minoritaria_upsampled])\n",
    "dadosRH_balanceados.promovido.value_counts()\n",
    "dadosRH_balanceados.info()\n",
    "sns.countplot(dadosRH_balanceados['promovido'])"
   ]
  },
  {
   "cell_type": "code",
   "execution_count": null,
   "id": "d31f7a8f",
   "metadata": {},
   "outputs": [],
   "source": []
  },
  {
   "cell_type": "code",
   "execution_count": null,
   "id": "547d5d74",
   "metadata": {},
   "outputs": [],
   "source": [
    "# Salvando o dataset com os dados manipulados\n",
    "\n",
    "dadosRH_balanceados.to_csv('dadosRH_modificado.csv', encoding = \"utf-8\", index = False)"
   ]
  },
  {
   "cell_type": "code",
   "execution_count": null,
   "id": "7dcf6014",
   "metadata": {},
   "outputs": [],
   "source": [
    "# Carregando os Dados Modificados\n",
    "\n",
    "dataset = pd.read_csv('dadosRH_modificado.csv')\n",
    "dataset.head()"
   ]
  },
  {
   "cell_type": "code",
   "execution_count": null,
   "id": "47047359",
   "metadata": {},
   "outputs": [],
   "source": [
    "# Pergunta 1 - Qual a Correlação entre os Atributos dos Funcionários?\n",
    "\n",
    "import matplotlib.pyplot as plt\n",
    "import seaborn as sns\n",
    "\n",
    "corr = dataset.corr()\n",
    "sns.heatmap(corr, cmap = \"YlOrRd\", linewidths = 0.1)\n",
    "plt.show()"
   ]
  },
  {
   "cell_type": "code",
   "execution_count": null,
   "id": "22eca5fa",
   "metadata": {},
   "outputs": [],
   "source": [
    "# Pergunta 2 - Qual o Tempo de Serviço da Maioria dos Funcionários?\n",
    "\n",
    "import matplotlib.pyplot as plt\n",
    "import seaborn as sns\n",
    "sns.distplot(dataset['tempo_servico'], color = 'green')\n",
    "plt.title('Distribuição do Tempo de Serviço dos Funcionários', fontsize = 15)\n",
    "plt.xlabel('Tempo de Serviço em Anos', fontsize = 15)\n",
    "plt.ylabel('Total')\n",
    "plt.show()"
   ]
  },
  {
   "cell_type": "code",
   "execution_count": null,
   "id": "bcb7b0f5",
   "metadata": {},
   "outputs": [],
   "source": [
    "# Pergunta 3 - Qual Avaliação do Ano Anterior Foi Mais Comum?\n",
    "\n",
    "import matplotlib.pyplot as plt\n",
    "import seaborn as sns\n",
    "dataset['aval_ano_anterior'].value.counts().sort_value().plot.bar(color = 'blue', figsize = (10,5))\n",
    "plt.title('Distribuição da Avaliação do Ano Anterior dos Funcionários', fontsize = 15)\n",
    "plt.xlabel('Avaliações', fontsize = 15)\n",
    "plt.ylabel('Total')\n",
    "plt.show()\n"
   ]
  },
  {
   "cell_type": "code",
   "execution_count": null,
   "id": "994b2a0b",
   "metadata": {},
   "outputs": [],
   "source": [
    "# Pergunta 4 - Qual a Distribuição das Idades dos Funcionários?\n",
    "\n",
    "import matplotlib.pyplot as plt\n",
    "import seaborn as sns\n",
    "sns.distplot(dataset['idade'], color = 'magenta')\n",
    "plt.title('Distribuição da Idade dos Funcionários', fontsize = 15)\n",
    "plt.xlabel('Idade', fontsize = 15)\n",
    "plt.ylabel('Total')\n",
    "plt.show()"
   ]
  },
  {
   "cell_type": "code",
   "execution_count": null,
   "id": "aea3fb01",
   "metadata": {},
   "outputs": [],
   "source": [
    "# Pergunta 5 - Qual o Número de Treinamentos mais Frequente?\n",
    "\n",
    "import matplotlib.pyplot as plt\n",
    "import seaborn as sns\n",
    "sns.violinplot(dataset[\"numero_treinamentos\"], color = 'red')\n",
    "plt.title('Número de Treinamentos Feitos pelos Funcionários', fontsize = 15)\n",
    "plt.xlabel('Número de Treinamentos', fontsize = 15)\n",
    "plt.ylabel(\"Frequência\")\n",
    "plt.show()"
   ]
  },
  {
   "cell_type": "code",
   "execution_count": null,
   "id": "b70ec5a2",
   "metadata": {},
   "outputs": [],
   "source": [
    "# Pergunta 6 - Qual a Proporção dos Funcionários por Canal de Recrutamento?\n",
    "\n",
    "import matplotlib.pyplot as plt\n",
    "import seaborn as sns\n",
    "\n",
    "dataset['canal_recrutamento'].value_counts()\n",
    "fatias = [55375, 42358, 2547]\n",
    "labels = \"Outro\", \"Outsorcing\", \"Indicação\"\n",
    "colors = ['purple', 'lime', 'yellow']\n",
    "explode - [0, 0, 0]\n",
    "plt.pie(fatias, labels = labels, colors = colors, explode = explode, shadow = True, autopct - \"%.2f%%\")\n",
    "plt.title('Percentual de Funcionários por Canal de Recrutamento', fontsize = 15)\n",
    "plt.axis('off')\n",
    "plt.legend()\n",
    "plt.show()"
   ]
  },
  {
   "cell_type": "code",
   "execution_count": null,
   "id": "222789b8",
   "metadata": {},
   "outputs": [],
   "source": [
    "# Pergunta 7 - Qual a Relação entre a Promoção e a Avaliação do ano anterior?\n",
    "\n",
    "import matplotlib.pyplot as plt\n",
    "import seaborn as sns\n",
    "\n",
    "data = pd.crosstab(dataset['aval_ano_anterior'], dataset['promovido'])\n",
    "data.div(data.sum(1).astype(float), axis = 0).plot(kind = 'bar',\n",
    "                                                   stacked = True,\n",
    "                                                   figsize = (16,9),\n",
    "                                                   color = ['blue', 'magenta'] )\n",
    "plt.title('Relação entre Avaliação do Ano Anterior e a Promoção', fontsize = 15)\n",
    "plt.xlabel('Avaliação do Ano Anterior', fontsize = 15)\n",
    "plt.legend()\n",
    "plt.show()"
   ]
  }
 ],
 "metadata": {
  "kernelspec": {
   "display_name": "Python 3 (ipykernel)",
   "language": "python",
   "name": "python3"
  },
  "language_info": {
   "codemirror_mode": {
    "name": "ipython",
    "version": 3
   },
   "file_extension": ".py",
   "mimetype": "text/x-python",
   "name": "python",
   "nbconvert_exporter": "python",
   "pygments_lexer": "ipython3",
   "version": "3.9.7"
  }
 },
 "nbformat": 4,
 "nbformat_minor": 5
}
